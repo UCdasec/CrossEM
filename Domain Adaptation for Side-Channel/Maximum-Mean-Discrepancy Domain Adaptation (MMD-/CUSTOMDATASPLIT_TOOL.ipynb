{
 "cells": [
  {
   "cell_type": "code",
   "execution_count": 1,
   "id": "7bc4bb0e",
   "metadata": {},
   "outputs": [
    {
     "name": "stdout",
     "output_type": "stream",
     "text": [
      "(10000, 1500)\n",
      "(10000, 16)\n",
      "['0x2b', '0x7e', '0x15', '0x16', '0x28', '0xae', '0xd2', '0xa6', '0xab', '0xf7', '0x15', '0x88', '0x9', '0xcf', '0x4f', '0x3c']\n"
     ]
    }
   ],
   "source": [
    "# There is a file with the same name of this lab but (HARDWARE) in title for using CW-Nano/CW-Lite/CW-Pro\n",
    "# There is a file with the same name of this lab but (SIMULATED) in title for using recorded data\n",
    "#raise NotImplementedError(\"Insert code from (HARDWARE) or (SIMULATED) Notebook Here\")\n",
    "import numpy as np\n",
    "from tqdm import tnrange\n",
    "\n",
    "trace_num =140000\n",
    "\n",
    "data_path = '/home/mabon/Cross_EM/datasets/TIME/xmega_em/T1/RandomDelay/ew/X1_K1_200k_L11_delay_20.npz'\n",
    "whole_pack = np.load(data_path)\n",
    "\n",
    "\n",
    "try:\n",
    "    trace_array, textin_array, key = whole_pack['power_trace'], whole_pack['plain_text'], whole_pack['key']\n",
    "except Exception:\n",
    "    trace_array, textin_array, key = whole_pack['trace_mat'], whole_pack['textin_mat'], whole_pack['key']\n",
    "trace_array = trace_array[trace_num:trace_num+10000,1800:3300]\n",
    "textin_array = textin_array[trace_num:trace_num+10000, :]\n",
    "print(trace_array.shape)\n",
    "print(textin_array.shape)\n",
    "\n",
    "hex_key = [hex(b_val) for b_val in key]\n",
    "print(hex_key)\n"
   ]
  },
  {
   "cell_type": "code",
   "execution_count": 2,
   "id": "2b3b1bcd",
   "metadata": {},
   "outputs": [],
   "source": [
    "leakage_model=\"HW\"\n",
    "target_byte=2"
   ]
  },
  {
   "cell_type": "code",
   "execution_count": 3,
   "id": "8e169dec",
   "metadata": {},
   "outputs": [],
   "source": [
    "import os\n",
    "import sys\n",
    "import pdb\n",
    "import numpy as np\n",
    "from collections import defaultdict\n",
    "from sklearn import preprocessing\n",
    "import random\n",
    "\n",
    "\n",
    "sbox = [\n",
    "    # 0    1    2    3    4    5    6    7    8    9    a    b    c    d    e    f\n",
    "    0x63, 0x7c, 0x77, 0x7b, 0xf2, 0x6b, 0x6f, 0xc5, 0x30, 0x01, 0x67, 0x2b, 0xfe, 0xd7, 0xab, 0x76,  # 0\n",
    "    0xca, 0x82, 0xc9, 0x7d, 0xfa, 0x59, 0x47, 0xf0, 0xad, 0xd4, 0xa2, 0xaf, 0x9c, 0xa4, 0x72, 0xc0,  # 1\n",
    "    0xb7, 0xfd, 0x93, 0x26, 0x36, 0x3f, 0xf7, 0xcc, 0x34, 0xa5, 0xe5, 0xf1, 0x71, 0xd8, 0x31, 0x15,  # 2\n",
    "    0x04, 0xc7, 0x23, 0xc3, 0x18, 0x96, 0x05, 0x9a, 0x07, 0x12, 0x80, 0xe2, 0xeb, 0x27, 0xb2, 0x75,  # 3\n",
    "    0x09, 0x83, 0x2c, 0x1a, 0x1b, 0x6e, 0x5a, 0xa0, 0x52, 0x3b, 0xd6, 0xb3, 0x29, 0xe3, 0x2f, 0x84,  # 4\n",
    "    0x53, 0xd1, 0x00, 0xed, 0x20, 0xfc, 0xb1, 0x5b, 0x6a, 0xcb, 0xbe, 0x39, 0x4a, 0x4c, 0x58, 0xcf,  # 5\n",
    "    0xd0, 0xef, 0xaa, 0xfb, 0x43, 0x4d, 0x33, 0x85, 0x45, 0xf9, 0x02, 0x7f, 0x50, 0x3c, 0x9f, 0xa8,  # 6\n",
    "    0x51, 0xa3, 0x40, 0x8f, 0x92, 0x9d, 0x38, 0xf5, 0xbc, 0xb6, 0xda, 0x21, 0x10, 0xff, 0xf3, 0xd2,  # 7\n",
    "    0xcd, 0x0c, 0x13, 0xec, 0x5f, 0x97, 0x44, 0x17, 0xc4, 0xa7, 0x7e, 0x3d, 0x64, 0x5d, 0x19, 0x73,  # 8\n",
    "    0x60, 0x81, 0x4f, 0xdc, 0x22, 0x2a, 0x90, 0x88, 0x46, 0xee, 0xb8, 0x14, 0xde, 0x5e, 0x0b, 0xdb,  # 9\n",
    "    0xe0, 0x32, 0x3a, 0x0a, 0x49, 0x06, 0x24, 0x5c, 0xc2, 0xd3, 0xac, 0x62, 0x91, 0x95, 0xe4, 0x79,  # a\n",
    "    0xe7, 0xc8, 0x37, 0x6d, 0x8d, 0xd5, 0x4e, 0xa9, 0x6c, 0x56, 0xf4, 0xea, 0x65, 0x7a, 0xae, 0x08,  # b\n",
    "    0xba, 0x78, 0x25, 0x2e, 0x1c, 0xa6, 0xb4, 0xc6, 0xe8, 0xdd, 0x74, 0x1f, 0x4b, 0xbd, 0x8b, 0x8a,  # c\n",
    "    0x70, 0x3e, 0xb5, 0x66, 0x48, 0x03, 0xf6, 0x0e, 0x61, 0x35, 0x57, 0xb9, 0x86, 0xc1, 0x1d, 0x9e,  # d\n",
    "    0xe1, 0xf8, 0x98, 0x11, 0x69, 0xd9, 0x8e, 0x94, 0x9b, 0x1e, 0x87, 0xe9, 0xce, 0x55, 0x28, 0xdf,  # e\n",
    "    0x8c, 0xa1, 0x89, 0x0d, 0xbf, 0xe6, 0x42, 0x68, 0x41, 0x99, 0x2d, 0x0f, 0xb0, 0x54, 0xbb, 0x16  # f\n",
    "]\n",
    "def calc_hamming_weight(n):\n",
    "    return bin(n).count(\"1\")\n",
    "\n",
    "\n",
    "def get_HW():\n",
    "    HW = []\n",
    "    for i in range(0, 256):\n",
    "        hw_val = calc_hamming_weight(i)\n",
    "        HW.append(hw_val)\n",
    "    return HW\n",
    "\n",
    "\n",
    "HW = get_HW()\n",
    "\n",
    "def aes_internal(inp_data_byte, key_byte):\n",
    "    inp_data_byte = int(inp_data_byte)\n",
    "    return sbox[inp_data_byte ^ key_byte]\n",
    "\n",
    "\n",
    "def get_one_label(text_i, target_byte, key_byte, leakage_model):\n",
    "    ''''''\n",
    "    label = aes_internal(text_i[target_byte], key_byte)\n",
    "    if 'HW' == leakage_model:\n",
    "        label = HW[label]\n",
    "    return label\n",
    "\n",
    "\n",
    "def get_labels(plain_text, key_byte, target_byte, leakage_model):\n",
    "    ''' get labels for a batch of data '''\n",
    "    labels = []\n",
    "    for i in range(plain_text.shape[0]):\n",
    "        text_i = plain_text[i]\n",
    "        label = get_one_label(text_i, target_byte, key_byte, leakage_model)\n",
    "        labels.append(label)\n",
    "\n",
    "    if 'HW' == leakage_model:\n",
    "        try:\n",
    "            assert(set(labels) == set(list(range(9))))\n",
    "        except Exception:\n",
    "            print('[LOG] -- not all class have data: ', set(labels))\n",
    "    else:\n",
    "        try:\n",
    "            assert(set(labels) == set(range(256)))\n",
    "        except Exception:\n",
    "            print('[LOG] -- not all class have data: ', set(labels))\n",
    "    labels = np.array(labels)\n",
    "    return labels"
   ]
  },
  {
   "cell_type": "code",
   "execution_count": 4,
   "id": "84216a6b",
   "metadata": {},
   "outputs": [],
   "source": [
    "labels = get_labels(textin_array, key[target_byte], target_byte, leakage_model)\n"
   ]
  },
  {
   "cell_type": "code",
   "execution_count": 5,
   "id": "cd86064b",
   "metadata": {},
   "outputs": [
    {
     "data": {
      "text/plain": [
       "(10000, 1500)"
      ]
     },
     "execution_count": 5,
     "metadata": {},
     "output_type": "execute_result"
    }
   ],
   "source": [
    "np.shape(trace_array)"
   ]
  },
  {
   "cell_type": "code",
   "execution_count": 6,
   "id": "fc9f3f78",
   "metadata": {},
   "outputs": [
    {
     "data": {
      "text/plain": [
       "array([ 97,  69,  31,  17,  96, 246, 194,  51, 135, 151,  44, 225,  44,\n",
       "        74, 120,   0], dtype=uint8)"
      ]
     },
     "execution_count": 6,
     "metadata": {},
     "output_type": "execute_result"
    }
   ],
   "source": [
    "textin_array[1]"
   ]
  },
  {
   "cell_type": "code",
   "execution_count": 7,
   "id": "2bfb0735",
   "metadata": {},
   "outputs": [],
   "source": [
    "textin_array = textin_array[:trace_num,2:3]\n"
   ]
  },
  {
   "cell_type": "code",
   "execution_count": 8,
   "id": "fcb4f3fc",
   "metadata": {},
   "outputs": [],
   "source": [
    "np.save('/home/mabon_pytorch/Cross-Device-Profiled-Attack/Different_Probe_Positions/Data/ourdata/xmega/RD/T1/X_attack.npy', trace_array)"
   ]
  },
  {
   "cell_type": "code",
   "execution_count": 9,
   "id": "7c96c4dd",
   "metadata": {},
   "outputs": [
    {
     "data": {
      "text/plain": [
       "(10000,)"
      ]
     },
     "execution_count": 9,
     "metadata": {},
     "output_type": "execute_result"
    }
   ],
   "source": [
    "np.shape(labels)"
   ]
  },
  {
   "cell_type": "code",
   "execution_count": 10,
   "id": "84a4deef",
   "metadata": {},
   "outputs": [],
   "source": [
    "np.save('/home/mabon_pytorch/Cross-Device-Profiled-Attack/Different_Probe_Positions/Data/ourdata/xmega/RD/T1/Y_attack.npy', labels)"
   ]
  },
  {
   "cell_type": "code",
   "execution_count": 11,
   "id": "c4d2ae3a",
   "metadata": {},
   "outputs": [
    {
     "data": {
      "text/plain": [
       "(10000, 1)"
      ]
     },
     "execution_count": 11,
     "metadata": {},
     "output_type": "execute_result"
    }
   ],
   "source": [
    "np.shape(textin_array[:trace_num])"
   ]
  },
  {
   "cell_type": "code",
   "execution_count": 12,
   "id": "b25e2dea",
   "metadata": {},
   "outputs": [],
   "source": [
    "np.save('/home/mabon_pytorch/Cross-Device-Profiled-Attack/Different_Probe_Positions/Data/ourdata/xmega/RD/T1/plaintexts_attack.npy', textin_array)"
   ]
  },
  {
   "cell_type": "code",
   "execution_count": 13,
   "id": "926b70ad",
   "metadata": {},
   "outputs": [
    {
     "data": {
      "text/plain": [
       "5"
      ]
     },
     "execution_count": 13,
     "metadata": {},
     "output_type": "execute_result"
    }
   ],
   "source": [
    "labels[1]"
   ]
  },
  {
   "cell_type": "code",
   "execution_count": null,
   "id": "ddaa9f3a",
   "metadata": {},
   "outputs": [],
   "source": []
  }
 ],
 "metadata": {
  "kernelspec": {
   "display_name": "Python [conda env:gpu] *",
   "language": "python",
   "name": "conda-env-gpu-py"
  },
  "language_info": {
   "codemirror_mode": {
    "name": "ipython",
    "version": 3
   },
   "file_extension": ".py",
   "mimetype": "text/x-python",
   "name": "python",
   "nbconvert_exporter": "python",
   "pygments_lexer": "ipython3",
   "version": "3.9.15"
  }
 },
 "nbformat": 4,
 "nbformat_minor": 5
}
