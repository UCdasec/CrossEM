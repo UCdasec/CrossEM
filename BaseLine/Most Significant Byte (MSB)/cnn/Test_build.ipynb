{
 "cells": [
  {
   "cell_type": "code",
   "execution_count": 1,
   "id": "36c71ac1",
   "metadata": {},
   "outputs": [
    {
     "name": "stderr",
     "output_type": "stream",
     "text": [
      "2024-01-18 14:46:39.319539: I tensorflow/stream_executor/platform/default/dso_loader.cc:49] Successfully opened dynamic library libcudart.so.10.1\n"
     ]
    }
   ],
   "source": [
    "#!/usr/bin/python3\n",
    "import os\n",
    "import sys\n",
    "import argparse\n",
    "import pdb\n",
    "import h5py\n",
    "import numpy as np\n",
    "from collections import defaultdict\n",
    "import matplotlib.pyplot as plt\n",
    "import ast\n",
    "\n",
    "import tensorflow as tf\n",
    "from tensorflow.keras.models import load_model\n",
    "from tensorflow.keras.utils import to_categorical\n",
    "\n",
    "sys.path.append(\"/home/mabon/MSB/tools\")\n",
    "import checking_tool\n",
    "import loadData\n",
    "import key_rank\n",
    "\n",
    "\n",
    "def plot_figure(x, y, title_str, fig_save_name):\n",
    "    plt.title(title_str)\n",
    "    plt.xlabel('number of traces')\n",
    "    plt.ylabel('rank')\n",
    "    plt.grid(True)\n",
    "    plt.plot(x, y)\n",
    "    plt.savefig(fig_save_name)\n",
    "    plt.show(block=False)\n",
    "    plt.figure()\n"
   ]
  },
  {
   "cell_type": "code",
   "execution_count": 2,
   "id": "509e4255",
   "metadata": {},
   "outputs": [],
   "source": [
    "input1='/home/mabon/S1_K1_200k.npz'\n",
    "model_dir='/home/mabon/testMSB/'\n",
    "output='/home/mabon/testMSB/'\n",
    "verbose=True\n",
    "target_byte=2\n",
    "leakage_model='MSB'\n",
    "attack_window='1200_2200'\n",
    "test_num=30000\n",
    "preprocess=''\n",
    "shifted=0\n",
    "ranking_root=os.path.join(output, 'rank_dir')"
   ]
  },
  {
   "cell_type": "code",
   "execution_count": 3,
   "id": "51dfb705",
   "metadata": {},
   "outputs": [],
   "source": [
    "\n",
    "def load_data():\n",
    "    ''' load test data '''\n",
    "    dpath = input1\n",
    "    method = preprocess\n",
    "    trace_num = test_num\n",
    "\n",
    "    whole_pack = np.load(dpath)\n",
    "    traces, text_in, key = loadData.load_data_base_test(whole_pack, attack_window, method, trace_num, shifted)\n",
    "     \n",
    "    ''' \n",
    "    #the following lines are for down sampleling\n",
    "    n1=[]\n",
    "    for i in range(0,int((np.shape(traces)[0]))):\n",
    "        t1=[]\n",
    "        for j in range(0,4000,4):\n",
    "            t1.append(traces[i][j])\n",
    "        n1.append(t1)\n",
    "    traces=np.array(n1)\n",
    "    '''\n",
    "\n",
    "\n",
    "    inp_shape = (traces.shape[1], 1)\n",
    "    labels = loadData.get_labels(text_in, key[target_byte], target_byte, leakage_model)\n",
    "\n",
    "    clsNum = 9 if 'HW' == leakage_model else (256 if 'ID' == leakage_model else 2)\n",
    "    labels = to_categorical(labels, clsNum)\n",
    "    return traces, labels, text_in, key, inp_shape"
   ]
  },
  {
   "cell_type": "code",
   "execution_count": 4,
   "id": "36eecee8",
   "metadata": {},
   "outputs": [],
   "source": [
    "# Check a saved model against one of the testing databases Attack traces\n",
    "def main():\n",
    "    # checking model file existence\n",
    "    cnn_model_path = os.path.join(model_dir, 'model', 'best_model.h5')\n",
    "    ranking_root = os.path.join(output, 'rank_dir')\n",
    "    os.makedirs(ranking_root, exist_ok=True)\n",
    "\n",
    "    # Load model\n",
    "    model = checking_tool.load_best_model(cnn_model_path)\n",
    "    model.summary()\n",
    "\n",
    "    # Load profiling and attack data and metadata from the ASCAD database\n",
    "    X_attack, Y_attack, plaintext, key, inp_shape = load_data()\n",
    "\n",
    "    # Get the input layer shape and Sanity check\n",
    "    input_layer_shape = model.get_layer(index=0).input_shape\n",
    "    if isinstance(input_layer_shape, list):\n",
    "        input_layer_shape = input_layer_shape[0]\n",
    "    Reshaped_X_attack = loadData.sanity_check(input_layer_shape, X_attack)\n",
    "\n",
    "    # run the accuracy test\n",
    "    score, acc = model.evaluate(Reshaped_X_attack, Y_attack, verbose=verbose)\n",
    "    print('[LOG] -- test acc is: {:f}'.format(acc))\n",
    "\n",
    "    preds = model.predict(X_attack)\n",
    "    return preds,key,plaintext"
   ]
  },
  {
   "cell_type": "code",
   "execution_count": 5,
   "id": "273b6f64",
   "metadata": {},
   "outputs": [
    {
     "name": "stdout",
     "output_type": "stream",
     "text": [
      "loading pre-trained model...\n"
     ]
    },
    {
     "name": "stderr",
     "output_type": "stream",
     "text": [
      "2024-01-18 14:46:42.163829: I tensorflow/compiler/jit/xla_cpu_device.cc:41] Not creating XLA devices, tf_xla_enable_xla_devices not set\n",
      "2024-01-18 14:46:42.313754: I tensorflow/stream_executor/platform/default/dso_loader.cc:49] Successfully opened dynamic library libcuda.so.1\n",
      "2024-01-18 14:46:42.380701: I tensorflow/stream_executor/cuda/cuda_gpu_executor.cc:941] successful NUMA node read from SysFS had negative value (-1), but there must be at least one NUMA node, so returning NUMA node zero\n",
      "2024-01-18 14:46:42.380858: I tensorflow/core/common_runtime/gpu/gpu_device.cc:1720] Found device 0 with properties: \n",
      "pciBusID: 0000:02:00.0 name: NVIDIA TITAN RTX computeCapability: 7.5\n",
      "coreClock: 1.77GHz coreCount: 72 deviceMemorySize: 23.64GiB deviceMemoryBandwidth: 625.94GiB/s\n",
      "2024-01-18 14:46:42.380878: I tensorflow/stream_executor/platform/default/dso_loader.cc:49] Successfully opened dynamic library libcudart.so.10.1\n",
      "2024-01-18 14:46:42.418798: I tensorflow/stream_executor/platform/default/dso_loader.cc:49] Successfully opened dynamic library libcublas.so.10\n",
      "2024-01-18 14:46:42.418900: I tensorflow/stream_executor/platform/default/dso_loader.cc:49] Successfully opened dynamic library libcublasLt.so.10\n",
      "2024-01-18 14:46:42.457678: I tensorflow/stream_executor/platform/default/dso_loader.cc:49] Successfully opened dynamic library libcufft.so.10\n",
      "2024-01-18 14:46:42.497049: I tensorflow/stream_executor/platform/default/dso_loader.cc:49] Successfully opened dynamic library libcurand.so.10\n",
      "2024-01-18 14:46:42.517231: I tensorflow/stream_executor/platform/default/dso_loader.cc:49] Successfully opened dynamic library libcusolver.so.10\n",
      "2024-01-18 14:46:42.555979: I tensorflow/stream_executor/platform/default/dso_loader.cc:49] Successfully opened dynamic library libcusparse.so.10\n",
      "2024-01-18 14:46:42.599616: I tensorflow/stream_executor/platform/default/dso_loader.cc:49] Successfully opened dynamic library libcudnn.so.7\n",
      "2024-01-18 14:46:42.599786: I tensorflow/stream_executor/cuda/cuda_gpu_executor.cc:941] successful NUMA node read from SysFS had negative value (-1), but there must be at least one NUMA node, so returning NUMA node zero\n",
      "2024-01-18 14:46:42.600012: I tensorflow/stream_executor/cuda/cuda_gpu_executor.cc:941] successful NUMA node read from SysFS had negative value (-1), but there must be at least one NUMA node, so returning NUMA node zero\n",
      "2024-01-18 14:46:42.600127: I tensorflow/core/common_runtime/gpu/gpu_device.cc:1862] Adding visible gpu devices: 0\n",
      "2024-01-18 14:46:42.600749: I tensorflow/core/platform/cpu_feature_guard.cc:142] This TensorFlow binary is optimized with oneAPI Deep Neural Network Library (oneDNN) to use the following CPU instructions in performance-critical operations:  SSE4.1 SSE4.2 AVX AVX2 FMA\n",
      "To enable them in other operations, rebuild TensorFlow with the appropriate compiler flags.\n",
      "2024-01-18 14:46:42.602570: I tensorflow/compiler/jit/xla_gpu_device.cc:99] Not creating XLA devices, tf_xla_enable_xla_devices not set\n",
      "2024-01-18 14:46:42.602731: I tensorflow/stream_executor/cuda/cuda_gpu_executor.cc:941] successful NUMA node read from SysFS had negative value (-1), but there must be at least one NUMA node, so returning NUMA node zero\n",
      "2024-01-18 14:46:42.602881: I tensorflow/core/common_runtime/gpu/gpu_device.cc:1720] Found device 0 with properties: \n",
      "pciBusID: 0000:02:00.0 name: NVIDIA TITAN RTX computeCapability: 7.5\n",
      "coreClock: 1.77GHz coreCount: 72 deviceMemorySize: 23.64GiB deviceMemoryBandwidth: 625.94GiB/s\n",
      "2024-01-18 14:46:42.602911: I tensorflow/stream_executor/platform/default/dso_loader.cc:49] Successfully opened dynamic library libcudart.so.10.1\n",
      "2024-01-18 14:46:42.602934: I tensorflow/stream_executor/platform/default/dso_loader.cc:49] Successfully opened dynamic library libcublas.so.10\n",
      "2024-01-18 14:46:42.602947: I tensorflow/stream_executor/platform/default/dso_loader.cc:49] Successfully opened dynamic library libcublasLt.so.10\n",
      "2024-01-18 14:46:42.602961: I tensorflow/stream_executor/platform/default/dso_loader.cc:49] Successfully opened dynamic library libcufft.so.10\n",
      "2024-01-18 14:46:42.602974: I tensorflow/stream_executor/platform/default/dso_loader.cc:49] Successfully opened dynamic library libcurand.so.10\n",
      "2024-01-18 14:46:42.602987: I tensorflow/stream_executor/platform/default/dso_loader.cc:49] Successfully opened dynamic library libcusolver.so.10\n",
      "2024-01-18 14:46:42.603000: I tensorflow/stream_executor/platform/default/dso_loader.cc:49] Successfully opened dynamic library libcusparse.so.10\n",
      "2024-01-18 14:46:42.603014: I tensorflow/stream_executor/platform/default/dso_loader.cc:49] Successfully opened dynamic library libcudnn.so.7\n",
      "2024-01-18 14:46:42.603073: I tensorflow/stream_executor/cuda/cuda_gpu_executor.cc:941] successful NUMA node read from SysFS had negative value (-1), but there must be at least one NUMA node, so returning NUMA node zero\n",
      "2024-01-18 14:46:42.603227: I tensorflow/stream_executor/cuda/cuda_gpu_executor.cc:941] successful NUMA node read from SysFS had negative value (-1), but there must be at least one NUMA node, so returning NUMA node zero\n",
      "2024-01-18 14:46:42.603338: I tensorflow/core/common_runtime/gpu/gpu_device.cc:1862] Adding visible gpu devices: 0\n",
      "2024-01-18 14:46:42.603367: I tensorflow/stream_executor/platform/default/dso_loader.cc:49] Successfully opened dynamic library libcudart.so.10.1\n",
      "2024-01-18 14:46:43.317944: I tensorflow/core/common_runtime/gpu/gpu_device.cc:1261] Device interconnect StreamExecutor with strength 1 edge matrix:\n",
      "2024-01-18 14:46:43.317969: I tensorflow/core/common_runtime/gpu/gpu_device.cc:1267]      0 \n",
      "2024-01-18 14:46:43.317975: I tensorflow/core/common_runtime/gpu/gpu_device.cc:1280] 0:   N \n",
      "2024-01-18 14:46:43.318176: I tensorflow/stream_executor/cuda/cuda_gpu_executor.cc:941] successful NUMA node read from SysFS had negative value (-1), but there must be at least one NUMA node, so returning NUMA node zero\n",
      "2024-01-18 14:46:43.318397: I tensorflow/stream_executor/cuda/cuda_gpu_executor.cc:941] successful NUMA node read from SysFS had negative value (-1), but there must be at least one NUMA node, so returning NUMA node zero\n",
      "2024-01-18 14:46:43.318551: I tensorflow/stream_executor/cuda/cuda_gpu_executor.cc:941] successful NUMA node read from SysFS had negative value (-1), but there must be at least one NUMA node, so returning NUMA node zero\n",
      "2024-01-18 14:46:43.318674: I tensorflow/core/common_runtime/gpu/gpu_device.cc:1406] Created TensorFlow device (/job:localhost/replica:0/task:0/device:GPU:0 with 22338 MB memory) -> physical GPU (device: 0, name: NVIDIA TITAN RTX, pci bus id: 0000:02:00.0, compute capability: 7.5)\n"
     ]
    },
    {
     "name": "stdout",
     "output_type": "stream",
     "text": [
      "Model: \"cnn_best\"\n",
      "_________________________________________________________________\n",
      "Layer (type)                 Output Shape              Param #   \n",
      "=================================================================\n",
      "input_1 (InputLayer)         [(None, 1000, 1)]         0         \n",
      "_________________________________________________________________\n",
      "block1_conv1 (Conv1D)        (None, 500, 64)           768       \n",
      "_________________________________________________________________\n",
      "block1_pool (AveragePooling1 (None, 250, 64)           0         \n",
      "_________________________________________________________________\n",
      "block2_conv1 (Conv1D)        (None, 250, 128)          90240     \n",
      "_________________________________________________________________\n",
      "block2_pool (AveragePooling1 (None, 125, 128)          0         \n",
      "_________________________________________________________________\n",
      "block3_conv1 (Conv1D)        (None, 125, 256)          360704    \n",
      "_________________________________________________________________\n",
      "block3_pool (AveragePooling1 (None, 62, 256)           0         \n",
      "_________________________________________________________________\n",
      "block4_conv1 (Conv1D)        (None, 62, 512)           1442304   \n",
      "_________________________________________________________________\n",
      "block4_pool (AveragePooling1 (None, 31, 512)           0         \n",
      "_________________________________________________________________\n",
      "block5_conv1 (Conv1D)        (None, 31, 512)           2884096   \n",
      "_________________________________________________________________\n",
      "block5_pool (AveragePooling1 (None, 15, 512)           0         \n",
      "_________________________________________________________________\n",
      "block_flatten (Flatten)      (None, 7680)              0         \n",
      "_________________________________________________________________\n",
      "block_fc1 (Dense)            (None, 4096)              31461376  \n",
      "_________________________________________________________________\n",
      "block_fc2 (Dense)            (None, 4096)              16781312  \n",
      "_________________________________________________________________\n",
      "preds (Dense)                (None, 2)                 8194      \n",
      "=================================================================\n",
      "Total params: 53,028,994\n",
      "Trainable params: 53,028,994\n",
      "Non-trainable params: 0\n",
      "_________________________________________________________________\n",
      "[LOG] -- no random delay apply to the data\n"
     ]
    },
    {
     "name": "stderr",
     "output_type": "stream",
     "text": [
      "2024-01-18 14:46:49.812420: I tensorflow/compiler/mlir/mlir_graph_optimization_pass.cc:116] None of the MLIR optimization passes are enabled (registered 2)\n",
      "2024-01-18 14:46:49.812808: I tensorflow/core/platform/profile_utils/cpu_utils.cc:112] CPU Frequency: 2799925000 Hz\n",
      "2024-01-18 14:46:49.984151: I tensorflow/stream_executor/platform/default/dso_loader.cc:49] Successfully opened dynamic library libcublas.so.10\n",
      "2024-01-18 14:46:50.187158: I tensorflow/stream_executor/platform/default/dso_loader.cc:49] Successfully opened dynamic library libcudnn.so.7\n",
      "2024-01-18 14:46:51.182669: W tensorflow/stream_executor/gpu/asm_compiler.cc:63] Running ptxas --version returned 256\n",
      "2024-01-18 14:46:51.268215: W tensorflow/stream_executor/gpu/redzone_allocator.cc:314] Internal: ptxas exited with non-zero error code 256, output: \n",
      "Relying on driver to perform ptx compilation. \n",
      "Modify $PATH to customize ptxas location.\n",
      "This message will be only logged once.\n"
     ]
    },
    {
     "name": "stdout",
     "output_type": "stream",
     "text": [
      "938/938 [==============================] - 11s 7ms/step - loss: 0.6708 - accuracy: 0.5855\n",
      "[LOG] -- test acc is: 0.585467\n"
     ]
    }
   ],
   "source": [
    "preds,key,plaintext=main()"
   ]
  },
  {
   "cell_type": "code",
   "execution_count": 6,
   "id": "f7ee7dd1",
   "metadata": {},
   "outputs": [],
   "source": [
    "MSB_byte=[0,0,0,0,1,0,0,1,0,0,0,0,1,1,1,0,1,1,1,0,1,0,0,\n",
    " 1,1,1,1,1,1,1,0,1,1,1,1,0,0,0,1,1,0,1,1,1,0,1,\n",
    " 0,0,0,1,0,1,0,1,0,1,0,0,1,1,1,0,1,0,0,1,0,0,0,\n",
    " 0,0,1,0,0,1,1,0,1,0,1,0,1,0,1,0,1,1,0,0,1,1,0,\n",
    " 0,0,0,1,1,1,1,1,0,0,0,1,0,1,0,0,0,0,1,1,0,1,0,\n",
    " 1,1,1,0,1,1,1,1,0,0,1,1,1,1,0,0,1,0,1,0,0,1,1,\n",
    " 0,0,0,0,0,0,0,1,0,1,0,0,1,1,0,1,1,0,1,0,0,1,1,\n",
    " 0,0,0,0,0,0,0,1,1,1,0,1,1,1,0,1,1,0,0,1,1,0,1,\n",
    " 0,0,1,1,0,0,1,0,1,0,0,0,0,1,1,1,1,1,0,0,0,1,1,\n",
    " 1,0,0,1,0,0,0,1,0,0,0,0,1,1,1,0,1,1,1,1,0,0,1,\n",
    " 1,1,1,0,1,1,1,0,0,1,1,1,1,0,1,1,0,0,0,1,0,0,1,\n",
    " 0,1,0]\n",
    "HW_byte = [0, 1, 1, 2, 1, 2, 2, 3, 1, 2, 2, 3, 2, 3, 3, 4, 1, 2, 2, 3, 2, 3, 3, 4, 2, 3, 3, 4, 3, 4, 4, 5, 1, 2, 2,\n",
    "           3, 2, 3, 3, 4, 2, 3, 3, 4, 3, 4, 4, 5, 2, 3, 3, 4, 3, 4, 4, 5, 3, 4, 4, 5, 4, 5, 5, 6, 1, 2, 2, 3, 2, 3,\n",
    "           3, 4, 2, 3, 3, 4, 3, 4, 4, 5, 2, 3, 3, 4, 3, 4, 4, 5, 3, 4, 4, 5, 4, 5, 5, 6, 2, 3, 3, 4, 3, 4, 4, 5, 3,\n",
    "           4, 4, 5, 4, 5, 5, 6, 3, 4, 4, 5, 4, 5, 5, 6, 4, 5, 5, 6, 5, 6, 6, 7, 1, 2, 2, 3, 2, 3, 3, 4, 2, 3, 3, 4,\n",
    "           3, 4, 4, 5, 2, 3, 3, 4, 3, 4, 4, 5, 3, 4, 4, 5, 4, 5, 5, 6, 2, 3, 3, 4, 3, 4, 4, 5, 3, 4, 4, 5, 4, 5, 5,\n",
    "           6, 3, 4, 4, 5, 4, 5, 5, 6, 4, 5, 5, 6, 5, 6, 6, 7, 2, 3, 3, 4, 3, 4, 4, 5, 3, 4, 4, 5, 4, 5, 5, 6, 3, 4,\n",
    "           4, 5, 4, 5, 5, 6, 4, 5, 5, 6, 5, 6, 6, 7, 3, 4, 4, 5, 4, 5, 5, 6, 4, 5, 5, 6, 5, 6, 6, 7, 4, 5, 5, 6, 5,\n",
    "           6, 6, 7, 5, 6, 6, 7, 6, 7, 7, 8]\n"
   ]
  },
  {
   "cell_type": "code",
   "execution_count": 7,
   "id": "7820a7d7",
   "metadata": {},
   "outputs": [],
   "source": [
    "\n",
    "Sbox = [99, 124, 119, 123, 242, 107, 111, 197, 48, 1, 103, 43, 254, 215, 171, 118, 202, 130, 201, 125, 250, 89, 71,\n",
    "        240, 173, 212, 162, 175, 156, 164, 114, 192, 183, 253, 147, 38, 54, 63, 247, 204, 52, 165, 229, 241, 113, 216,\n",
    "        49, 21, 4, 199, 35, 195, 24, 150, 5, 154, 7, 18, 128, 226, 235, 39, 178, 117, 9, 131, 44, 26, 27, 110, 90, 160,\n",
    "        82, 59, 214, 179, 41, 227, 47, 132, 83, 209, 0, 237, 32, 252, 177, 91, 106, 203, 190, 57, 74, 76, 88, 207, 208,\n",
    "        239, 170, 251, 67, 77, 51, 133, 69, 249, 2, 127, 80, 60, 159, 168, 81, 163, 64, 143, 146, 157, 56, 245, 188,\n",
    "        182, 218, 33, 16, 255, 243, 210, 205, 12, 19, 236, 95, 151, 68, 23, 196, 167, 126, 61, 100, 93, 25, 115, 96,\n",
    "        129, 79, 220, 34, 42, 144, 136, 70, 238, 184, 20, 222, 94, 11, 219, 224, 50, 58, 10, 73, 6, 36, 92, 194, 211,\n",
    "        172, 98, 145, 149, 228, 121, 231, 200, 55, 109, 141, 213, 78, 169, 108, 86, 244, 234, 101, 122, 174, 8, 186,\n",
    "        120, 37, 46, 28, 166, 180, 198, 232, 221, 116, 31, 75, 189, 139, 138, 112, 62, 181, 102, 72, 3, 246, 14, 97,\n",
    "        53, 87, 185, 134, 193, 29, 158, 225, 248, 152, 17, 105, 217, 142, 148, 155, 30, 135, 233, 206, 85, 40, 223, 140,\n",
    "        161, 137, 13, 191, 230, 66, 104, 65, 153, 45, 15, 176, 84, 187, 22]\n"
   ]
  },
  {
   "cell_type": "code",
   "execution_count": 8,
   "id": "adec1589",
   "metadata": {},
   "outputs": [],
   "source": [
    "max_trace_num = min(10000, preds.shape[0])"
   ]
  },
  {
   "cell_type": "code",
   "execution_count": 9,
   "id": "89f1cf5f",
   "metadata": {},
   "outputs": [],
   "source": [
    "import random\n",
    "num_averaged=2\n",
    "trace_num_max=30000\n",
    "time=1"
   ]
  },
  {
   "cell_type": "code",
   "execution_count": 10,
   "id": "758dc5b5",
   "metadata": {},
   "outputs": [],
   "source": [
    "guessing_entropy = np.zeros((num_averaged, trace_num_max))\n",
    "success_flag = np.zeros((num_averaged, trace_num_max))\n",
    "real_key = key[target_byte]\n",
    "plaintext = plaintext[:, target_byte]"
   ]
  },
  {
   "cell_type": "code",
   "execution_count": 11,
   "id": "e379a102",
   "metadata": {},
   "outputs": [],
   "source": [
    "random_index = list(range(plaintext.shape[0]))\n",
    "random.shuffle(random_index)\n",
    "random_index = random_index[0:trace_num_max]\n",
    "score_mat = np.zeros((trace_num_max, 256))"
   ]
  },
  {
   "cell_type": "code",
   "execution_count": 12,
   "id": "c5cec69a",
   "metadata": {},
   "outputs": [],
   "source": [
    "for key_guess in range(0, 256):\n",
    "    for i in range(0, trace_num_max):\n",
    "        initialState = int(plaintext[random_index[i]]) ^ key_guess\n",
    "        sout = Sbox[initialState]\n",
    "        if leakage_model == 'ID':\n",
    "            label = sout\n",
    "        elif leakage_model == 'HW':\n",
    "            label = HW_byte[sout]\n",
    "        elif leakage_model == 'MSB':\n",
    "            label = MSB_byte[sout]\n",
    "        score_mat[i, key_guess] = preds[random_index[i], label]"
   ]
  },
  {
   "cell_type": "code",
   "execution_count": 13,
   "id": "a3afe747",
   "metadata": {},
   "outputs": [],
   "source": [
    "score_mat = np.log(score_mat + 1e-40)"
   ]
  },
  {
   "cell_type": "code",
   "execution_count": 14,
   "id": "38775d5b",
   "metadata": {},
   "outputs": [],
   "source": [
    "guessing_entropy = np.zeros((num_averaged, trace_num_max))\n",
    "success_flag = np.zeros((num_averaged, trace_num_max))\n"
   ]
  },
  {
   "cell_type": "code",
   "execution_count": 15,
   "id": "9753f68f",
   "metadata": {},
   "outputs": [],
   "source": [
    "for i in range(0, trace_num_max):\n",
    "    log_likelihood = np.sum(score_mat[0:i+1, :], axis=0)\n",
    "    ranked = np.argsort(log_likelihood)[::-1]\n",
    "    guessing_entropy[time, i] = list(ranked).index(real_key)\n",
    "    if list(ranked).index(real_key) == 0:\n",
    "        success_flag[time, i] = 1"
   ]
  },
  {
   "cell_type": "code",
   "execution_count": 16,
   "id": "d29e2839",
   "metadata": {},
   "outputs": [],
   "source": [
    "guessing_entropy = np.mean(guessing_entropy, axis=0)"
   ]
  },
  {
   "cell_type": "code",
   "execution_count": 71,
   "id": "3b692d28",
   "metadata": {},
   "outputs": [
    {
     "data": {
      "text/plain": [
       "array([202, 243, 116, 192,  88, 179, 247, 225,  31,  43, 104,  92, 100,\n",
       "       186, 152, 204, 244, 203, 142, 130, 176, 158,  79,  10,  25,  50,\n",
       "       110, 248, 102, 154, 207, 201, 226, 165,   9, 169,  87, 224, 205,\n",
       "        72, 163, 155,  56, 111,  95, 242, 255, 236,  12, 126,  39, 112,\n",
       "       101,  15, 172, 249, 209, 223,  33, 106,  93, 251,  57, 117, 145,\n",
       "       188,  32,  49,  78,  96,  11,  19, 200, 170, 151,  68,  86,  13,\n",
       "       143,  81,  21,  94, 206, 230,  26, 220, 232, 217, 148,  91,  89,\n",
       "        77,  76, 216, 187, 160, 180, 159,  97,  85, 162,  55,  29, 253,\n",
       "       136, 254, 229,  40,  80,   7,  28,  54, 119,  75, 122,  30, 218,\n",
       "         3,  52, 196, 246,  34, 239,  48, 108, 164, 219,  36, 197,   5,\n",
       "       114, 156,  64, 178,  53, 231, 177,  62, 141,  18, 137, 199, 191,\n",
       "       182,  98, 233, 195, 222, 241, 190, 105,  38, 115, 208, 124, 153,\n",
       "       228, 140, 234, 181, 134,  90, 127, 245, 103, 166, 183, 184,  70,\n",
       "        73, 237,  63, 107, 144, 167,  44,  47,  71,  99,  58,  65, 173,\n",
       "        74,   8, 193, 133,  51,  14,   6, 138, 240, 168, 157,  61,   2,\n",
       "       132, 198, 189,  20, 235, 227,  84,  27,   4, 128,  67, 221,  35,\n",
       "       146,  22,  45, 139,  46, 211,  24, 250, 150,  59, 171, 238, 118,\n",
       "       147,  66, 194, 175,  16, 113,  42, 121,   1, 185, 210, 125, 161,\n",
       "       131, 212,  60, 135, 252,  83, 214, 149,  82, 213, 129,  41, 120,\n",
       "        23, 123, 109,   0, 174,  37,  17,  69, 215])"
      ]
     },
     "execution_count": 71,
     "metadata": {},
     "output_type": "execute_result"
    }
   ],
   "source": [
    "ranked"
   ]
  },
  {
   "cell_type": "code",
   "execution_count": null,
   "id": "707e588e",
   "metadata": {},
   "outputs": [],
   "source": [
    "def ranking_curve(preds, key, plaintext, target_byte, rank_root, leakage_model='MSB', trace_num_max=500):\n",
    "\n",
    "    # GE/SR is averaged over 100 attacks \n",
    "    num_averaged = 1\n",
    "    guessing_entropy = np.zeros((num_averaged, trace_num_max))\n",
    "    success_flag = np.zeros((num_averaged, trace_num_max))\n",
    "\n",
    "    real_key = key[target_byte]\n",
    "    plaintext = plaintext[:, target_byte]\n",
    "\n",
    "#     # attack multiples times for average\n",
    "    for time in range(num_averaged):\n",
    "        # select the attack traces randomly\n",
    "        random_index = list(range(plaintext.shape[0]))\n",
    "\n",
    "#         #         ## customized by HL\n",
    "#         #         print(f\"random_index shape {len(random_index)}, max value {max(random_index)}, min value {min(random_index)}\")\n",
    "\n",
    "        random.shuffle(random_index)\n",
    "        random_index = random_index[0:trace_num_max]\n",
    "\n",
    "        #         ## customized by HL\n",
    "        #         print(f\"random_index shape after slicing {len(random_index)}, max value {max(random_index)}, min value {min(random_index)}\")\n",
    "\n",
    "        # initialize score matrix\n",
    "        score_mat = np.zeros((trace_num_max, 256))\n",
    "        for key_guess in range(0, 256):\n",
    "            for i in range(0, trace_num_max):\n",
    "                initialState = int(plaintext[random_index[i]]) ^ key_guess\n",
    "                sout = Sbox[initialState]\n",
    "                if leakage_model == 'ID':\n",
    "                    label = sout\n",
    "                elif leakage_model == 'HW':\n",
    "                    label = HW_byte[sout]\n",
    "                elif leakage_model == 'MSB':\n",
    "                    label = MSB_byte[sout]\n",
    "                try:\n",
    "                    score_mat[i, key_guess] = preds[random_index[i], label]\n",
    "                except Exception as e:\n",
    "                    pdb.set_trace()\n",
    "                    print(e.message)\n",
    "        score_mat = np.log(score_mat + 1e-40)\n",
    "\n",
    "        #         ## customized by HL\n",
    "        #         print(f\"score_mat {score_mat}\")\n",
    "\n",
    "        for i in range(0, trace_num_max):\n",
    "            log_likelihood = np.sum(score_mat[0:i+1, :], axis=0)\n",
    "            ranked = np.argsort(log_likelihood)[::-1]\n",
    "            guessing_entropy[time, i] = list(ranked).index(real_key)\n",
    "            if list(ranked).index(real_key) == 0:\n",
    "                success_flag[time, i] = 1\n",
    "\n",
    "    guessing_entropy = np.mean(guessing_entropy, axis=0)\n"
   ]
  },
  {
   "cell_type": "code",
   "execution_count": 22,
   "id": "626ba4a0",
   "metadata": {},
   "outputs": [
    {
     "ename": "NameError",
     "evalue": "name 'ranking_curve' is not defined",
     "output_type": "error",
     "traceback": [
      "\u001b[0;31m---------------------------------------------------------------------------\u001b[0m",
      "\u001b[0;31mNameError\u001b[0m                                 Traceback (most recent call last)",
      "\u001b[0;32m/tmp/ipykernel_309649/2200554674.py\u001b[0m in \u001b[0;36m<module>\u001b[0;34m\u001b[0m\n\u001b[0;32m----> 1\u001b[0;31m \u001b[0mguessing_entropy\u001b[0m\u001b[0;34m=\u001b[0m\u001b[0mranking_curve\u001b[0m\u001b[0;34m(\u001b[0m\u001b[0mpreds\u001b[0m\u001b[0;34m,\u001b[0m \u001b[0mkey\u001b[0m\u001b[0;34m,\u001b[0m \u001b[0mplaintext\u001b[0m\u001b[0;34m,\u001b[0m \u001b[0mtarget_byte\u001b[0m\u001b[0;34m,\u001b[0m \u001b[0mranking_root\u001b[0m\u001b[0;34m,\u001b[0m \u001b[0mleakage_model\u001b[0m\u001b[0;34m,\u001b[0m \u001b[0mmax_trace_num\u001b[0m\u001b[0;34m)\u001b[0m\u001b[0;34m\u001b[0m\u001b[0;34m\u001b[0m\u001b[0m\n\u001b[0m",
      "\u001b[0;31mNameError\u001b[0m: name 'ranking_curve' is not defined"
     ]
    }
   ],
   "source": [
    "guessing_entropy=ranking_curve(preds, key, plaintext, target_byte, ranking_root, leakage_model, max_trace_num)"
   ]
  },
  {
   "cell_type": "code",
   "execution_count": null,
   "id": "4f58ea74",
   "metadata": {},
   "outputs": [],
   "source": [
    "#     preds = model.predict(X_attack)\n",
    "    max_trace_num = min(10000, preds.shape[0])\n",
    "    key_rank.ranking_curve(preds, key, plaintext, target_byte, ranking_root, leakage_model, max_trace_num)\n",
    "    print('[LOG] ---- all doneQ!')\n",
    "\n",
    "    whole_pack = np.load(os.path.join(ranking_root,'ranking_raw_data.npz'))\n",
    "    try:    s\n",
    "        x, y = whole_pack['x'], whole_pack['y']\n",
    "    except:\n",
    "        y = whole_pack['y']\n",
    "    for i in range(len(x)):\n",
    "        if(y[i]<0.6):\n",
    "            print(\"KRC............\",i)\n",
    "            break    "
   ]
  },
  {
   "cell_type": "code",
   "execution_count": 19,
   "id": "076d6fa6",
   "metadata": {},
   "outputs": [
    {
     "data": {
      "text/plain": [
       "[<matplotlib.lines.Line2D at 0x7f95a7e4c410>]"
      ]
     },
     "execution_count": 19,
     "metadata": {},
     "output_type": "execute_result"
    },
    {
     "data": {
      "image/png": "[encoded data removed]",
      "text/plain": [
       "<Figure size 640x480 with 1 Axes>"
      ]
     },
     "metadata": {},
     "output_type": "display_data"
    }
   ],
   "source": [
    "plt.plot(guessing_entropy[0:5000])\n"
   ]
  },
  {
   "cell_type": "code",
   "execution_count": 55,
   "id": "f6023e41",
   "metadata": {},
   "outputs": [
    {
     "name": "stdout",
     "output_type": "stream",
     "text": [
      "432\n",
      "443\n",
      "444\n",
      "487\n",
      "488\n",
      "489\n",
      "490\n"
     ]
    }
   ],
   "source": [
    "for i in range(len(guessing_entropy)):\n",
    "    if guessing_entropy[i]<30:\n",
    "        print(i)"
   ]
  },
  {
   "cell_type": "code",
   "execution_count": null,
   "id": "fa410ff1",
   "metadata": {},
   "outputs": [],
   "source": []
  }
 ],
 "metadata": {
  "kernelspec": {
   "display_name": "Python [conda env:tensorflow] *",
   "language": "python",
   "name": "conda-env-tensorflow-py"
  },
  "language_info": {
   "codemirror_mode": {
    "name": "ipython",
    "version": 3
   },
   "file_extension": ".py",
   "mimetype": "text/x-python",
   "name": "python",
   "nbconvert_exporter": "python",
   "pygments_lexer": "ipython3",
   "version": "3.7.16"
  }
 },
 "nbformat": 4,
 "nbformat_minor": 5
}
